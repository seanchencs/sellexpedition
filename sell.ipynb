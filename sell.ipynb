{
 "cells": [
  {
   "cell_type": "code",
   "execution_count": null,
   "metadata": {},
   "outputs": [],
   "source": [
    "import json\n",
    "import urllib.request\n",
    "import pyperclip\n",
    "import datetime"
   ]
  },
  {
   "cell_type": "code",
   "execution_count": null,
   "metadata": {},
   "outputs": [],
   "source": [
    "# INPUTS\n",
    "IGN = '_effoC_'\n",
    "KNIGHTS_COUNT = 40\n",
    "SCYTHE_COUNT = 40\n",
    "CIRCLE_COUNT = 0\n",
    "ORDER_COUNT = 50\n",
    "\n",
    "# OPTIONS\n",
    "ROUND = 0.5\n",
    "MARKUP = 1.20\n",
    "CHAOS = False\n"
   ]
  },
  {
   "cell_type": "code",
   "execution_count": null,
   "metadata": {},
   "outputs": [],
   "source": [
    "# fetch bulk expedition prices from TFT Github\n",
    "data = urllib.request.urlopen('https://raw.githubusercontent.com/The-Forbidden-Trove/tft-data-prices/master/lsc/bulk-expedition.json')\n",
    "data = json.loads(data.read())\n",
    "timestamp = datetime.datetime.fromtimestamp(data['timestamp']/1e3)\n",
    "data = data['data']\n",
    "\n",
    "knights_price_chaos = next(x for x in data if x['name'] == 'Knights of the Sun')['chaos']\n",
    "scythe_price_chaos = next(x for x in data if x['name'] == 'Black Scythe Mercenaries')['chaos']\n",
    "circle_price_chaos = next(x for x in data if x['name'] == 'Druids of the Broken Circle')['chaos']\n",
    "order_price_chaos = next(x for x in data if x['name'] == 'Order of the Chalice')['chaos']\n",
    "\n",
    "\n",
    "knights_price_div = next(x for x in data if x['name'] == 'Knights of the Sun')['divine']\n",
    "scythe_price_div = next(x for x in data if x['name'] == 'Black Scythe Mercenaries')['divine']\n",
    "circle_price_div = next(x for x in data if x['name'] == 'Druids of the Broken Circle')['divine']\n",
    "order_price_div = next(x for x in data if x['name'] == 'Order of the Chalice')['divine']\n",
    "\n",
    "print(f\"\"\"Data updated {timestamp.strftime('%c')}:\n",
    "Knights: {knights_price_chaos}c | {1/knights_price_div:.2f}/div\n",
    "Scythe: {scythe_price_chaos}c | {1/scythe_price_div:.2f}/div\n",
    "Circle: {circle_price_chaos}c | {1/circle_price_div:.2f}/div\n",
    "Order: {order_price_chaos}c | {1/order_price_div:.2f}/div\"\"\")"
   ]
  },
  {
   "cell_type": "code",
   "execution_count": null,
   "metadata": {},
   "outputs": [],
   "source": [
    "def round_div(x, base=ROUND):\n",
    "    return base * round(x/base)\n",
    "\n",
    "output = f\"\"\"WTS Softcore\n",
    "ilvl: 83 | Non Split / Non Corrupted / Unsorted\n",
    "------------------------------------------------\\n\"\"\"\n",
    "if KNIGHTS_COUNT:\n",
    "    output += f'{KNIGHTS_COUNT}x Knights Sun - {f\"{knights_price_chaos*MARKUP}c each / \" if CHAOS else \"\"}{round_div(KNIGHTS_COUNT*knights_price_div*MARKUP)} div all\\n'\n",
    "if SCYTHE_COUNT:\n",
    "    output += f'{SCYTHE_COUNT}x Black Scythe - {f\"{scythe_price_chaos*MARKUP}c each / \" if CHAOS else \"\"}{round_div(SCYTHE_COUNT*scythe_price_div*MARKUP)} div all\\n'\n",
    "if CIRCLE_COUNT:\n",
    "    output += f'{CIRCLE_COUNT}x Druid Circle - {f\"{circle_price_chaos*MARKUP}c each / \" if CHAOS else \"\"}{round_div(CIRCLE_COUNT*circle_price_div*MARKUP)} div all\\n'\n",
    "if ORDER_COUNT:\n",
    "    output += f'{ORDER_COUNT}x Order Chalice - {f\"{order_price_chaos*MARKUP}c each / \" if CHAOS else \"\"}{round_div(ORDER_COUNT*order_price_div*MARKUP)} div all\\n'\n",
    "output += f\"\"\"------------------------------------------------\n",
    "ign: `{IGN}` \"\"\"\n",
    "\n",
    "print(output)\n",
    "pyperclip.copy(output)"
   ]
  },
  {
   "cell_type": "code",
   "execution_count": null,
   "metadata": {},
   "outputs": [],
   "source": []
  }
 ],
 "metadata": {
  "kernelspec": {
   "display_name": "Python 3.10.7 64-bit",
   "language": "python",
   "name": "python3"
  },
  "language_info": {
   "codemirror_mode": {
    "name": "ipython",
    "version": 3
   },
   "file_extension": ".py",
   "mimetype": "text/x-python",
   "name": "python",
   "nbconvert_exporter": "python",
   "pygments_lexer": "ipython3",
   "version": "3.10.7"
  },
  "orig_nbformat": 4,
  "vscode": {
   "interpreter": {
    "hash": "8b9b673346abefa0899c8efe82ae82b4418801d1a76d1e335855412198a7e991"
   }
  }
 },
 "nbformat": 4,
 "nbformat_minor": 2
}
