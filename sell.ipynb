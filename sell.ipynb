{
 "cells": [
  {
   "cell_type": "code",
   "execution_count": 55,
   "metadata": {},
   "outputs": [],
   "source": [
    "import json\n",
    "import urllib.request\n",
    "import pyperclip\n",
    "import datetime"
   ]
  },
  {
   "cell_type": "code",
   "execution_count": 56,
   "metadata": {},
   "outputs": [],
   "source": [
    "IGN = '_effoC_'\n",
    "KNIGHTS_COUNT = 20\n",
    "SCYTHE_COUNT = 20\n",
    "CIRCLE_COUNT = 20\n",
    "ORDER_COUNT = 50"
   ]
  },
  {
   "cell_type": "code",
   "execution_count": 65,
   "metadata": {},
   "outputs": [
    {
     "name": "stdout",
     "output_type": "stream",
     "text": [
      "Data updated Sat Sep 17 19:01:33 2022:\n",
      "Knights: 2.63 logbooks/div\n",
      "Scythe: 4.76 logbooks/div\n",
      "Circle: 14.29 logbooks/div\n",
      "Order: 14.29 logbooks/div\n"
     ]
    }
   ],
   "source": [
    "# fetch bulk expedition prices from TFT Github\n",
    "data = urllib.request.urlopen('https://raw.githubusercontent.com/The-Forbidden-Trove/tft-data-prices/master/lsc/bulk-expedition.json')\n",
    "data = json.loads(data.read())\n",
    "timestamp = datetime.datetime.fromtimestamp(data['timestamp']/1e3)\n",
    "data = data['data']\n",
    "\n",
    "knights_price = next(x for x in data if x['name'] == 'Knights of the Sun')['divine']\n",
    "scythe_price = next(x for x in data if x['name'] == 'Black Scythe Mercenaries')['divine']\n",
    "circle_price = next(x for x in data if x['name'] == 'Druids of the Broken Circle')['divine']\n",
    "order_price = next(x for x in data if x['name'] == 'Order of the Chalice')['divine']\n",
    "\n",
    "print(f\"\"\"Data updated {timestamp.strftime('%c')}:\n",
    "Knights: {1/knights_price:.2f} logbooks/div\n",
    "Scythe: {1/scythe_price:.2f} logbooks/div\n",
    "Circle: {1/circle_price:.2f} logbooks/div\n",
    "Order: {1/order_price:.2f} logbooks/div\"\"\")"
   ]
  },
  {
   "cell_type": "code",
   "execution_count": 49,
   "metadata": {},
   "outputs": [
    {
     "name": "stdout",
     "output_type": "stream",
     "text": [
      "WTS Softcore\n",
      "ilvl: 83 | Non Split / Non Corrupted / Unsorted\n",
      "------------------------------------------------\n",
      "20x Knights Sun - 7.5 div all\n",
      "20x Black Scythe - 4.0 div all\n",
      "20x Druid Circle - 1.5 div all\n",
      "50x Order Chalice - 3.5 div all\n",
      "------------------------------------------------\n",
      "ign: `_effoC_` \n"
     ]
    }
   ],
   "source": [
    "def myround(x, base=.5):\n",
    "    return base * round(x/base)\n",
    "\n",
    "output = f\"\"\"WTS Softcore\n",
    "ilvl: 83 | Non Split / Non Corrupted / Unsorted\n",
    "------------------------------------------------\\n\"\"\"\n",
    "if KNIGHTS_COUNT:\n",
    "    output += f'{KNIGHTS_COUNT}x Knights Sun - {myround(KNIGHTS_COUNT*knights_price)} div all\\n'\n",
    "if SCYTHE_COUNT:\n",
    "    output += f'{SCYTHE_COUNT}x Black Scythe - {myround(SCYTHE_COUNT*scythe_price)} div all\\n'\n",
    "if CIRCLE_COUNT:\n",
    "    output += f'{CIRCLE_COUNT}x Druid Circle - {myround(CIRCLE_COUNT*circle_price)} div all\\n'\n",
    "if ORDER_COUNT:\n",
    "    output += f'{ORDER_COUNT}x Order Chalice - {myround(ORDER_COUNT*order_price)} div all\\n'\n",
    "output += f\"\"\"------------------------------------------------\n",
    "ign: `{IGN}` \"\"\"\n",
    "\n",
    "print(output)\n",
    "pyperclip.copy(output)"
   ]
  }
 ],
 "metadata": {
  "kernelspec": {
   "display_name": "Python 3.10.7 64-bit",
   "language": "python",
   "name": "python3"
  },
  "language_info": {
   "codemirror_mode": {
    "name": "ipython",
    "version": 3
   },
   "file_extension": ".py",
   "mimetype": "text/x-python",
   "name": "python",
   "nbconvert_exporter": "python",
   "pygments_lexer": "ipython3",
   "version": "3.10.7"
  },
  "orig_nbformat": 4,
  "vscode": {
   "interpreter": {
    "hash": "8b9b673346abefa0899c8efe82ae82b4418801d1a76d1e335855412198a7e991"
   }
  }
 },
 "nbformat": 4,
 "nbformat_minor": 2
}
