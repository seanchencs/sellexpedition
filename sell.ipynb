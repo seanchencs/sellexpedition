{
 "cells": [
  {
   "cell_type": "code",
   "execution_count": 1,
   "metadata": {},
   "outputs": [],
   "source": [
    "import json\n",
    "import urllib.request"
   ]
  },
  {
   "cell_type": "code",
   "execution_count": 24,
   "metadata": {},
   "outputs": [],
   "source": [
    "IGN = '_effoC_'\n",
    "KNIGHTS_COUNT = 20\n",
    "SCYTHE_COUNT = 20\n",
    "CIRCLE_COUNT = 20\n",
    "ORDER_COUNT = 20"
   ]
  },
  {
   "cell_type": "code",
   "execution_count": 25,
   "metadata": {},
   "outputs": [],
   "source": [
    "# fetch bulk expedition prices from TFT Github\n",
    "data = urllib.request.urlopen('https://raw.githubusercontent.com/The-Forbidden-Trove/tft-data-prices/master/lsc/bulk-expedition.json')\n",
    "data = json.loads(data.read())['data']\n",
    "\n",
    "knights_price = next(x for x in data if x['name'] == 'Knights of the Sun')['divine']\n",
    "scythe_price = next(x for x in data if x['name'] == 'Black Scythe Mercenaries')['divine']\n",
    "circle_price = next(x for x in data if x['name'] == 'Druids of the Broken Circle')['divine']\n",
    "order_price = next(x for x in data if x['name'] == 'Order of the Chalice')['divine']"
   ]
  },
  {
   "cell_type": "code",
   "execution_count": 26,
   "metadata": {},
   "outputs": [
    {
     "name": "stdout",
     "output_type": "stream",
     "text": [
      "WTS Softcore\n",
      "ilvl: 83 | Non Split / Non Corrupted / Unsorted\n",
      "------------------------------------------------\n",
      "20x Knights Sun - 7.5 div all\n",
      "40x Black Scythe - 4.0 div all\n",
      "30x Druid Circle - 1.5 div all\n",
      "40x Order Chalice - 1.5 div all\n",
      "------------------------------------------------\n",
      "ign: `_effoC_` \n"
     ]
    }
   ],
   "source": [
    "def myround(x, base=.5):\n",
    "    return base * round(x/base)\n",
    "\n",
    "output = f\"\"\"WTS Softcore\n",
    "ilvl: 83 | Non Split / Non Corrupted / Unsorted\n",
    "------------------------------------------------\n",
    "20x Knights Sun - {myround(KNIGHTS_COUNT*knights_price)} div all\n",
    "40x Black Scythe - {myround(SCYTHE_COUNT*scythe_price)} div all\n",
    "30x Druid Circle - {myround(CIRCLE_COUNT*circle_price)} div all\n",
    "40x Order Chalice - {myround(ORDER_COUNT*order_price)} div all\n",
    "------------------------------------------------\n",
    "ign: `{IGN}` \"\"\"\n",
    "\n",
    "print(output)"
   ]
  }
 ],
 "metadata": {
  "kernelspec": {
   "display_name": "Python 3.10.7 64-bit",
   "language": "python",
   "name": "python3"
  },
  "language_info": {
   "codemirror_mode": {
    "name": "ipython",
    "version": 3
   },
   "file_extension": ".py",
   "mimetype": "text/x-python",
   "name": "python",
   "nbconvert_exporter": "python",
   "pygments_lexer": "ipython3",
   "version": "3.10.7"
  },
  "orig_nbformat": 4,
  "vscode": {
   "interpreter": {
    "hash": "8b9b673346abefa0899c8efe82ae82b4418801d1a76d1e335855412198a7e991"
   }
  }
 },
 "nbformat": 4,
 "nbformat_minor": 2
}
