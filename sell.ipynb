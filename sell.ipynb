{
 "cells": [
  {
   "cell_type": "code",
   "execution_count": 149,
   "metadata": {},
   "outputs": [],
   "source": [
    "import json\n",
    "import urllib.request\n",
    "import pyperclip\n",
    "import datetime"
   ]
  },
  {
   "cell_type": "code",
   "execution_count": 150,
   "metadata": {},
   "outputs": [],
   "source": [
    "LEAGUE = 'Sanctum'\n",
    "\n",
    "# INPUTS\n",
    "IGN = '_effoC_'\n",
    "KNIGHTS_COUNT = 0\n",
    "SCYTHE_COUNT = 24\n",
    "CIRCLE_COUNT = 0\n",
    "ORDER_COUNT = 0\n",
    "\n",
    "# OPTIONS\n",
    "ROUND_CHAOS = 1\n",
    "ROUND_DIV = 0.1\n",
    "MARKUP = 1\n",
    "CHAOS = True\n",
    "CHAOS_TOTAL_CUTOFF = 200 # totals above this limit will be rounded to divines\n",
    "\n",
    "DIVINE = True\n",
    "CHAOS_TOTAL = True\n",
    "\n",
    "# CUSTOM PRICES IN CHAOS\n",
    "KNIGHTS_PRICE = None\n",
    "SCYTHE_PRICE = 45\n",
    "CIRCLE_PRICE = None\n",
    "ORDER_PRICE = None"
   ]
  },
  {
   "cell_type": "code",
   "execution_count": 151,
   "metadata": {},
   "outputs": [
    {
     "name": "stdout",
     "output_type": "stream",
     "text": [
      "Data updated Sat Dec 17 03:01:31 2022:\n",
      "Knights: 67c | 1/2.99 div\n",
      "Scythe: 45c | 1/4.44 div\n",
      "Circle: 12c | 1/16.67 div\n",
      "Order: 20c | 1/10.00 div\n"
     ]
    }
   ],
   "source": [
    "# fetch currency rates from poe.ninja\n",
    "# data = urllib.request.urlopen(f'https://poe.ninja/api/data/currencyoverview?league=Sanctum&type=Currency')\n",
    "# div_price = json.loads(data.read())['lines'][0]['chaosEquivalent']\n",
    "# print(div_price)\n",
    "div_price = 200\n",
    "\n",
    "# fetch bulk expedition prices from TFT Github\n",
    "data = urllib.request.urlopen('https://raw.githubusercontent.com/The-Forbidden-Trove/tft-data-prices/master/lsc/bulk-expedition.json')\n",
    "data = json.loads(data.read())\n",
    "timestamp = datetime.datetime.fromtimestamp(data['timestamp']/1e3)\n",
    "data = data['data']\n",
    "\n",
    "knights_price_chaos = next(x for x in data if x['name'] == 'Knights of the Sun')['chaos'] if not KNIGHTS_PRICE else KNIGHTS_PRICE\n",
    "scythe_price_chaos = next(x for x in data if x['name'] == 'Black Scythe Mercenaries')['chaos'] if not SCYTHE_PRICE else SCYTHE_PRICE\n",
    "circle_price_chaos = next(x for x in data if x['name'] == 'Druids of the Broken Circle')['chaos'] if not CIRCLE_PRICE else CIRCLE_PRICE\n",
    "order_price_chaos = next(x for x in data if x['name'] == 'Order of the Chalice')['chaos'] if not ORDER_PRICE else ORDER_PRICE\n",
    "\n",
    "\n",
    "# knights_price_div = next(x for x in data if x['name'] == 'Knights of the Sun')['divine'] if not KNIGHTS_PRICE else KNIGHTS_PRICE/div_price\n",
    "# scythe_price_div = next(x for x in data if x['name'] == 'Black Scythe Mercenaries')['divine'] if not SCYTHE_PRICE else SCYTHE_PRICE/div_price\n",
    "# circle_price_div = next(x for x in data if x['name'] == 'Druids of the Broken Circle')['divine'] if not CIRCLE_PRICE else CIRCLE_PRICE/div_price\n",
    "# order_price_div = next(x for x in data if x['name'] == 'Order of the Chalice')['divine'] if not ORDER_PRICE else ORDER_PRICE/div_price\n",
    "knights_price_div = knights_price_chaos/div_price\n",
    "scythe_price_div = scythe_price_chaos/div_price\n",
    "circle_price_div = circle_price_chaos/div_price\n",
    "order_price_div = order_price_chaos/div_price\n",
    "\n",
    "print(f\"\"\"Data updated {timestamp.strftime('%c')}:\n",
    "Knights: {knights_price_chaos}c | 1/{1/knights_price_div:.2f} div\n",
    "Scythe: {scythe_price_chaos}c | 1/{1/scythe_price_div:.2f} div\n",
    "Circle: {circle_price_chaos}c | 1/{1/circle_price_div:.2f} div\n",
    "Order: {order_price_chaos}c | 1/{1/order_price_div:.2f} div\"\"\")"
   ]
  },
  {
   "cell_type": "code",
   "execution_count": 152,
   "metadata": {},
   "outputs": [
    {
     "name": "stdout",
     "output_type": "stream",
     "text": [
      "WTS Softcore\n",
      "ilvl: 83 | Non-Split / Non-Corrupted / Unsorted\n",
      "------------------------------------------------\n",
      "24x Black Scythe - 45c each | 5.4 div all\n",
      "------------------------------------------------\n",
      "ign: `_effoC_` \n"
     ]
    }
   ],
   "source": [
    "def round_div(x, base=ROUND_DIV):\n",
    "    return base * round(x/base)\n",
    "\n",
    "def round_chaos(x, base=ROUND_CHAOS, up=True):\n",
    "    return base * round(x/base)\n",
    "\n",
    "if ROUND_CHAOS:\n",
    "    knights_price_chaos = round_chaos(knights_price_chaos)\n",
    "    scythe_price_chaos = round_chaos(scythe_price_chaos)\n",
    "    circle_price_chaos = round_chaos(circle_price_chaos)\n",
    "    order_price_chaos = round_chaos(order_price_chaos)\n",
    "\n",
    "output = f\"\"\"WTS Softcore\n",
    "ilvl: 83 | Non-Split / Non-Corrupted / Unsorted\n",
    "------------------------------------------------\\n\"\"\"\n",
    "if KNIGHTS_COUNT:\n",
    "    total = KNIGHTS_COUNT*knights_price_chaos*MARKUP\n",
    "    output += f'{KNIGHTS_COUNT}x Knights Sun - '\n",
    "    if CHAOS:\n",
    "        output += f'{round(knights_price_chaos*MARKUP):g}c each'\n",
    "    if total <= CHAOS_TOTAL_CUTOFF:\n",
    "        output += f' | {round(total):g}c all\\n'\n",
    "    else:\n",
    "        output += f' | {round_div(KNIGHTS_COUNT*knights_price_div*MARKUP):g} div all\\n'\n",
    "if SCYTHE_COUNT:\n",
    "    total = SCYTHE_COUNT*scythe_price_chaos*MARKUP\n",
    "    output += f'{SCYTHE_COUNT}x Black Scythe - '\n",
    "    if CHAOS:\n",
    "        output += f'{round(scythe_price_chaos*MARKUP):g}c each'\n",
    "    if total <= CHAOS_TOTAL_CUTOFF:\n",
    "        output += f' | {round(total):g}c all\\n'\n",
    "    else:\n",
    "        output += f' | {round_div(SCYTHE_COUNT*scythe_price_div*MARKUP):g} div all\\n'\n",
    "if CIRCLE_COUNT:\n",
    "    total = CIRCLE_COUNT*circle_price_chaos*MARKUP\n",
    "    output += f'{CIRCLE_COUNT}x Druid Circle - '\n",
    "    if CHAOS:\n",
    "        output += f'{round(circle_price_chaos*MARKUP):g}c each'\n",
    "    if total <= CHAOS_TOTAL_CUTOFF:\n",
    "        output += f' | {round(total):g}c all\\n'\n",
    "    else:\n",
    "        output += f' | {round_div(CIRCLE_COUNT*circle_price_div*MARKUP):g} div all\\n'\n",
    "if ORDER_COUNT:\n",
    "    total = ORDER_COUNT*order_price_chaos*MARKUP\n",
    "    output += f'{ORDER_COUNT}x Order Chalice - '\n",
    "    if CHAOS:\n",
    "        output += f'{round(order_price_chaos*MARKUP):g}c each'\n",
    "    if total <= CHAOS_TOTAL_CUTOFF:\n",
    "        output += f' | {round(total):g}c all\\n'\n",
    "    else:\n",
    "        output += f' | {round_div(ORDER_COUNT*order_price_div*MARKUP):g} div all\\n'\n",
    "output += f\"\"\"------------------------------------------------\n",
    "ign: `{IGN}` \"\"\"\n",
    "\n",
    "print(output)\n",
    "pyperclip.copy(output)"
   ]
  },
  {
   "cell_type": "code",
   "execution_count": null,
   "metadata": {},
   "outputs": [],
   "source": []
  }
 ],
 "metadata": {
  "kernelspec": {
   "display_name": "Python 3.10.7 64-bit",
   "language": "python",
   "name": "python3"
  },
  "language_info": {
   "codemirror_mode": {
    "name": "ipython",
    "version": 3
   },
   "file_extension": ".py",
   "mimetype": "text/x-python",
   "name": "python",
   "nbconvert_exporter": "python",
   "pygments_lexer": "ipython3",
   "version": "3.10.7"
  },
  "orig_nbformat": 4,
  "vscode": {
   "interpreter": {
    "hash": "8b9b673346abefa0899c8efe82ae82b4418801d1a76d1e335855412198a7e991"
   }
  }
 },
 "nbformat": 4,
 "nbformat_minor": 2
}
